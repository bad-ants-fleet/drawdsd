{
 "cells": [
  {
   "cell_type": "markdown",
   "id": "f74b4684-82a3-4b15-aa33-d2823d2967bf",
   "metadata": {},
   "source": [
    "# An introduction to the drawdsd library"
   ]
  },
  {
   "cell_type": "code",
   "execution_count": null,
   "id": "72dd8802-6de0-448a-a2d6-d864c4ccc73b",
   "metadata": {},
   "outputs": [],
   "source": [
    "from drawdsd import set_domain_colors, draw_complex"
   ]
  },
  {
   "cell_type": "markdown",
   "id": "63c49426-4d07-4203-93c7-91650301e4bc",
   "metadata": {},
   "source": [
    "## First, use the dsdobjects libary for complex specification\n",
    "Note: When working with dsdobjects, certain properties of domains and complexes are immutable. For example, it is not possible to change the length of a domain, or the name of a complex further down in this notebook. You would have to restart the kernel and make sure that the initial definition matches all following uses."
   ]
  },
  {
   "cell_type": "code",
   "execution_count": null,
   "id": "7071d907-85b3-4a9b-b4c0-5f060d3e457b",
   "metadata": {},
   "outputs": [],
   "source": [
    "from dsdobjects.objectio import set_io_objects, read_pil, read_pil_line"
   ]
  },
  {
   "cell_type": "code",
   "execution_count": null,
   "id": "c55aa638-1c5d-412a-bad9-ea6cd4d8436f",
   "metadata": {},
   "outputs": [],
   "source": [
    "# Input for drawing\n",
    "pil = \"\"\"\n",
    "length x = 10\n",
    "length b = 10\n",
    "length t = 5\n",
    "\n",
    "F1 = x( t( b + ) ) t*\n",
    "F2 = x( t( b ) ) t*\n",
    "\"\"\""
   ]
  },
  {
   "cell_type": "code",
   "execution_count": null,
   "id": "07149bb4-1193-485c-8fba-31e9b130764a",
   "metadata": {},
   "outputs": [],
   "source": [
    "set_io_objects()\n",
    "info = read_pil(pil)\n",
    "domains = info['domains']\n",
    "complexes = info['complexes']\n",
    "display(domains)\n",
    "display(complexes)"
   ]
  },
  {
   "cell_type": "markdown",
   "id": "4f6bda0f-9223-4780-b1ab-fb7d80b9cf4a",
   "metadata": {},
   "source": [
    "## Second, we add the color property to all domains. \n",
    "Note: you can also set colors manually, but here we use the convenience function *set_domain_colors* which assigns "
   ]
  },
  {
   "cell_type": "code",
   "execution_count": null,
   "id": "e2e4682c-a6dd-4310-84d9-6ca82a75b4b1",
   "metadata": {},
   "outputs": [],
   "source": [
    "set_domain_colors(domains)\n",
    "for n, d in domains.items():\n",
    "    print(f'{d.name = }:\\t{d.color = }')"
   ]
  },
  {
   "cell_type": "markdown",
   "id": "6548319c-d352-413c-9d0c-44600c8d1ed6",
   "metadata": {},
   "source": [
    "## Third, let's draw all complexes with default rendering\n"
   ]
  },
  {
   "cell_type": "code",
   "execution_count": null,
   "id": "ab2c7256-7e92-482f-a6db-754fbea929c1",
   "metadata": {},
   "outputs": [],
   "source": [
    "for n, cplx in complexes.items():\n",
    "    print(f'Drawing complex: {n}')\n",
    "    svg, pa, ll, la = draw_complex(cplx)\n",
    "    print(f'Rendering uses:')\n",
    "    print(f'pair_angles = {pa}')\n",
    "    print(f'loop_lengths = {ll}')\n",
    "    print(f'loop_angles = {la}')\n",
    "    svg.save_png(f'complex_{n}.png')\n",
    "    display(svg)\n"
   ]
  },
  {
   "cell_type": "markdown",
   "id": "4912e58e-b7ff-43af-ae50-520306ac6d2e",
   "metadata": {},
   "source": [
    "## Let's add sequences to domains.\n",
    "Note: The sequence is not immutable for domain objects, so as long as name and length match, we can update the sequences of domain objects.\n"
   ]
  },
  {
   "cell_type": "code",
   "execution_count": null,
   "id": "06dda1b1-fa26-40bc-acf1-d1aaf87fdfac",
   "metadata": {},
   "outputs": [],
   "source": [
    "pil = \"\"\"\n",
    "sequence x = GGGGGGGGGG: 10\n",
    "sequence b = AAAAAAAAAA: 10\n",
    "sequence t = GCTGT: 5\n",
    "\n",
    "F1 = x( t( b + ) ) t*\n",
    "F2 = x( t( b ) ) t*\n",
    "\"\"\"\n",
    "set_io_objects()\n",
    "info = read_pil(pil)\n",
    "domains = info['domains']\n",
    "complexes = info['complexes']"
   ]
  },
  {
   "cell_type": "code",
   "execution_count": null,
   "id": "831f4bb8-c018-4b03-8273-a648c4a968c9",
   "metadata": {},
   "outputs": [],
   "source": [
    "for n, c in complexes.items():\n",
    "    print(f'Drawing complex: {n}')\n",
    "    svg, pa, ll, la = draw_complex(cplx)\n",
    "    print(f'Rendering uses:')\n",
    "    print(f'pair_angles = {pa}')\n",
    "    print(f'loop_lengths = {ll}')\n",
    "    print(f'loop_angles = {la}')\n",
    "    svg.save_png(f'complex_{n}.png')\n",
    "    display(svg)"
   ]
  },
  {
   "cell_type": "markdown",
   "id": "11a72c9a-9a4b-4835-8294-ca2aefb74254",
   "metadata": {},
   "source": [
    "# Now some more complicated examples"
   ]
  },
  {
   "cell_type": "code",
   "execution_count": null,
   "id": "7cf23112-a2ef-4675-a4a7-2794a1744c84",
   "metadata": {},
   "outputs": [],
   "source": [
    "# Again, the dsdobjects part for complex initialization (This needs to be consistent with all previous parts of this notebook!)\n",
    "pil = \"\"\"\n",
    "sequence a = ACGTAAATTT: 10\n",
    "sequence b = AAGGCCTTAA: 10\n",
    "sequence c = GGCCGGCCAA: 10\n",
    "sequence t1 = GCTGT: 5\n",
    "sequence t2 = TCCGT: 5\n",
    "sequence s1 = TTTT: 4\n",
    "sequence s2 = TTTT: 4\n",
    "sequence x = GGGGGGGGGG: 10\n",
    "sequence y = CCCGGGGGCC: 10\n",
    "\n",
    "T1 = t1 a( s1 a*( ) s2 a( + ) s1 a*( x ) s2 ) t2\n",
    "\"\"\"\n",
    "set_io_objects()\n",
    "info = read_pil(pil)\n",
    "domains = info['domains']\n",
    "complexes = info['complexes']\n",
    "set_domain_colors(domains)"
   ]
  },
  {
   "cell_type": "code",
   "execution_count": null,
   "id": "bf904205-dbe5-4e43-81c6-72bdc6077dfb",
   "metadata": {},
   "outputs": [],
   "source": [
    "# Drawing a single complex T1\n",
    "cplx = complexes['T1']\n",
    "print(f'Drawing complex: {cplx.name}')\n",
    "svg, pa, ll, la = draw_complex(cplx)\n",
    "print(f'Rendering uses:')\n",
    "print(f'pair_angles = {pa}')\n",
    "print(f'loop_lengths = {ll}')\n",
    "print(f'loop_angles = {la}')\n",
    "display(svg)"
   ]
  },
  {
   "cell_type": "code",
   "execution_count": null,
   "id": "9ce790ae-0aff-4fda-91cd-d0793cf8c326",
   "metadata": {},
   "outputs": [],
   "source": [
    "pair_angles = [0, 0, 0, 180]\n",
    "loop_lengths = [[5, 4, 0, 4, 0], [0, 4, 10, 4, 5]]\n",
    "loop_angles = [[None, None, None, None, None], [None, None, None, None, None]]\n",
    "svg, pa, ll, la = draw_complex(cplx, pair_angles = pair_angles, loop_lengths = loop_lengths, loop_angles = loop_angles)\n",
    "print(f'Rendering uses:')\n",
    "print(f'pair_angles = {pa}')\n",
    "print(f'loop_lengths = {ll}')\n",
    "print(f'loop_angles = {la}')\n",
    "display(svg)"
   ]
  },
  {
   "cell_type": "code",
   "execution_count": null,
   "id": "5dec60f9-6828-4803-bc1e-3593a1ea24b5",
   "metadata": {},
   "outputs": [],
   "source": [
    "cplx = read_pil_line('T2 = t1 a( t1 a*( ) s2 a( + ) s1 a*( x ) s2 ) t2')\n",
    "svg, pa, ll, la = draw_complex(cplx)\n",
    "print(f'Rendering uses:')\n",
    "print(f'pair_angles = {pa}')\n",
    "print(f'loop_lengths = {ll}')\n",
    "print(f'loop_angles = {la}')\n",
    "svg"
   ]
  },
  {
   "cell_type": "code",
   "execution_count": null,
   "id": "213eccb5-378b-4cb9-ac48-d61fce10f1ba",
   "metadata": {},
   "outputs": [],
   "source": [
    "pair_angles = [0, 0, 0, 180]\n",
    "loop_lengths = [[5, 5, 0, 4, 0], [0, 4, 10, 4, 5]]\n",
    "loop_angles = [[None, None, None, None, None], [None, None, None, None, None]]\n",
    "svg, pa, ll, la = draw_complex(cplx, pair_angles = pair_angles, loop_lengths = loop_lengths, loop_angles = loop_angles)\n",
    "print(f'Rendering uses:')\n",
    "print(f'pair_angles = {pa}')\n",
    "print(f'loop_lengths = {ll}')\n",
    "print(f'loop_angles = {la}')\n",
    "svg"
   ]
  },
  {
   "cell_type": "code",
   "execution_count": null,
   "id": "4789bbfd-0923-4291-9453-d288259ff97d",
   "metadata": {},
   "outputs": [],
   "source": [
    "pair_angles = [0, 0, 0, 180]\n",
    "loop_lengths = [[5, 4, 0, 4, 0], [0, 4, 10, 4, 5]]\n",
    "loop_angles = [[None, None, None, None, None], [None, None, None, None, None]]\n",
    "svg, pa, ll, la = draw_complex(cplx, pair_angles = pair_angles, loop_lengths = loop_lengths, loop_angles = loop_angles)\n",
    "print(f'Rendering uses:')\n",
    "print(f'pair_angles = {pa}')\n",
    "print(f'loop_lengths = {ll}')\n",
    "print(f'loop_angles = {la}')\n",
    "svg"
   ]
  },
  {
   "cell_type": "markdown",
   "id": "c734dbc9-7b93-43fd-aed2-f986c54edea3",
   "metadata": {},
   "source": [
    "# Workbench"
   ]
  },
  {
   "cell_type": "code",
   "execution_count": null,
   "id": "20bc5fbc-3516-47e1-965c-246440f7f493",
   "metadata": {},
   "outputs": [],
   "source": [
    "# Again, the dsdobjects part for complex initialization (This needs to be consistent with all previous parts of this notebook!)\n",
    "pil = \"\"\"\n",
    "sequence a = ACGTAAATTT: 10\n",
    "sequence b = AAGGCCTTAA: 10\n",
    "sequence c = GGCCGGCCAA: 10\n",
    "sequence t1 = GCTGT: 5\n",
    "sequence t2 = TCCGT: 5\n",
    "sequence s1 = TTTT: 4\n",
    "sequence s2 = TTTT: 4\n",
    "sequence x = GGGGGGGGGG: 10\n",
    "sequence y = CCCGGGGGCC: 10\n",
    "sequence i = N: 1\n",
    "\"\"\"\n",
    "set_io_objects()\n",
    "info = read_pil(pil)\n",
    "domains = info['domains']\n",
    "complexes = info['complexes']\n",
    "set_domain_colors(domains)"
   ]
  },
  {
   "cell_type": "code",
   "execution_count": null,
   "id": "fc64d67f-2014-4026-821a-32e794246182",
   "metadata": {},
   "outputs": [],
   "source": [
    "# If you change this, make sure you change both name *and* structure!\n",
    "cplx = read_pil_line('T55 = t1 a( i b( t1 a*( ) s2 a( i a( ) + ) s1 a*( x ) s2 ) ) t2')"
   ]
  },
  {
   "cell_type": "code",
   "execution_count": null,
   "id": "250e1643-c457-4573-8959-e28f652b3d25",
   "metadata": {},
   "outputs": [],
   "source": [
    "svg, pa, ll, la = draw_complex(cplx)\n",
    "print(f'Rendering uses:')\n",
    "print(f'pa = {pa}')\n",
    "print(f'll = {ll}')\n",
    "print(f'la = {la}')\n",
    "svg"
   ]
  },
  {
   "cell_type": "code",
   "execution_count": null,
   "id": "a3ea91fd-fc62-4532-9ec4-bf623457830f",
   "metadata": {},
   "outputs": [],
   "source": [
    "pa = [0, 0, 90, 0, 45, -90]\n",
    "ll = [[5, 1, 3.5, 0, 3.5, 1, 0, 0], [0, 3.5, 10, 3.5, 0, 5]]\n",
    "la = [[None, None, 45, None, -45, None, None, None], [None, None, None, None, None, None]]\n",
    "svg, pa, ll, la = draw_complex(cplx, pair_angles = pa, loop_lengths = ll, loop_angles = la)\n",
    "svg"
   ]
  },
  {
   "cell_type": "code",
   "execution_count": null,
   "id": "7e57d79a-5fd9-4e8d-9bbf-21785a314ff9",
   "metadata": {},
   "outputs": [],
   "source": []
  }
 ],
 "metadata": {
  "kernelspec": {
   "display_name": "py39",
   "language": "python",
   "name": "py39"
  },
  "language_info": {
   "codemirror_mode": {
    "name": "ipython",
    "version": 3
   },
   "file_extension": ".py",
   "mimetype": "text/x-python",
   "name": "python",
   "nbconvert_exporter": "python",
   "pygments_lexer": "ipython3",
   "version": "3.9.16"
  }
 },
 "nbformat": 4,
 "nbformat_minor": 5
}
